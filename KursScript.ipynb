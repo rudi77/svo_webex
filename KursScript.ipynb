{
 "cells": [
  {
   "cell_type": "code",
   "execution_count": null,
   "metadata": {},
   "outputs": [],
   "source": [
    "import os\n",
    "import pandas as pd\n",
    "import glob\n",
    "from pathlib import Path\n",
    "import pandas as pd\n",
    "from openpyxl import load_workbook"
   ]
  },
  {
   "cell_type": "code",
   "execution_count": null,
   "metadata": {},
   "outputs": [],
   "source": [
    "def read_files(root_dir):\n",
    "    files = glob.glob(os.path.join(root_dir, \"*.csv\"))\n",
    "    data_frames = {}\n",
    "    for idx, file in enumerate(files):\n",
    "        with open(file, 'r', encoding='utf-8') as f:\n",
    "            line1 = f.readline()            \n",
    "            # Example line:\n",
    "            # \"Sitzungsdetail für 'Bodystyling mit Bibi':\"\n",
    "            course_name = f.readline().split(\"'\")[1] # get the name of the course, e.g.: Bodystyling mit Bibi        \n",
    "        df = pd.read_csv(file, sep=\"\\t\", skiprows=2)\n",
    "        data_frames[idx] = (df, Path(file).stem.split('_')[0], course_name)\n",
    "    return data_frames"
   ]
  },
  {
   "cell_type": "code",
   "execution_count": null,
   "metadata": {},
   "outputs": [],
   "source": [
    "def consolidate(df):\n",
    "    df_cons = pd.DataFrame(columns = ['Name', 'E-Mail', 'Datum'])\n",
    "    date = None\n",
    "    groups = df.groupby('Name')\n",
    "    for k,g in groups:\n",
    "        for i, row in g.iterrows():\n",
    "            df_cons = df_cons.append({'Name':row['Name'], 'E-Mail':row['E-Mail'], 'Datum':row['Datum']}, ignore_index=True)\n",
    "            if date is None:\n",
    "                date = row['Datum']\n",
    "            break\n",
    "    return (df_cons, date)"
   ]
  },
  {
   "cell_type": "code",
   "execution_count": null,
   "metadata": {},
   "outputs": [],
   "source": [
    "def save(df, path):\n",
    "    df.to_csv(path,header=True, index=False, sep='\\t', encoding='utf-8')"
   ]
  },
  {
   "cell_type": "code",
   "execution_count": null,
   "metadata": {},
   "outputs": [],
   "source": [
    "root_dir = r'C:\\Users\\rudi\\Documents\\Tina\\WebexKurse\\15.3-25.3'\n",
    "data_frames = read_files(root_dir)\n",
    "consolidated_data = []\n",
    "for k,v in data_frames.items():\n",
    "    df = v[0]\n",
    "    name = v[1]\n",
    "    course_name = v[2]\n",
    "    (df_cons, date) = consolidate(df)\n",
    "    consolidated_data.append((df_cons, date, course_name))\n",
    "    #filename = os.path.join(root_dir, f'{name}_{date}.tsv')\n",
    "    #save(df_cons, filename)"
   ]
  },
  {
   "cell_type": "markdown",
   "metadata": {},
   "source": [
    "# Render Course Information into an Excel Workbook"
   ]
  },
  {
   "cell_type": "code",
   "execution_count": null,
   "metadata": {},
   "outputs": [],
   "source": [
    "def create_excel(filename, dataframes, sheet_name='Sheet1'):\n",
    "    # Create a Pandas Excel writer using XlsxWriter as the engine.\n",
    "    writer = pd.ExcelWriter(filename, engine='xlsxwriter')\n",
    "    workbook = writer.book\n",
    "    header_format = workbook.add_format({'bg_color': '#689BCA', 'bold': True})\n",
    "    start = 1\n",
    "    \n",
    "    for (df_cons, date, course_name) in dataframes:        \n",
    "        \n",
    "        # df1.to_excel(writer,sheet_name=sheetname, startrow=writer.sheets[sheetname].max_row, index = False,header= False)\n",
    "        # Convert the dataframe to an XlsxWriter Excel object.\n",
    "        print(f'{course_name}_{date}')\n",
    "        \n",
    "        df_cons.to_excel(writer, sheet_name=sheet_name, index=False, startrow=start)\n",
    "        worksheet = writer.sheets[sheet_name]\n",
    "        worksheet.write(start-1, 0, f'{course_name}_{date}', header_format)\n",
    "        start += len(df_cons) + 4\n",
    "\n",
    "    # Close the Pandas Excel writer and output the Excel file.\n",
    "    writer.save()\n",
    "    writer.close()"
   ]
  },
  {
   "cell_type": "code",
   "execution_count": null,
   "metadata": {
    "scrolled": true
   },
   "outputs": [],
   "source": [
    "print(consolidated_data[0][0].head())"
   ]
  },
  {
   "cell_type": "code",
   "execution_count": null,
   "metadata": {},
   "outputs": [],
   "source": [
    "create_excel('Kurse_15.03_25.03.2021.xlsx', consolidated_data)"
   ]
  }
 ],
 "metadata": {
  "kernelspec": {
   "display_name": "Python 3",
   "language": "python",
   "name": "python3"
  },
  "language_info": {
   "codemirror_mode": {
    "name": "ipython",
    "version": 3
   },
   "file_extension": ".py",
   "mimetype": "text/x-python",
   "name": "python",
   "nbconvert_exporter": "python",
   "pygments_lexer": "ipython3",
   "version": "3.7.6"
  }
 },
 "nbformat": 4,
 "nbformat_minor": 4
}
