{
 "cells": [
  {
   "cell_type": "code",
   "execution_count": 1,
   "metadata": {},
   "outputs": [],
   "source": [
    "import os\n",
    "import pandas as pd\n",
    "import glob\n",
    "from pathlib import Path\n",
    "import pandas as pd\n",
    "from openpyxl import load_workbook"
   ]
  },
  {
   "cell_type": "code",
   "execution_count": 18,
   "metadata": {},
   "outputs": [],
   "source": [
    "def read_files(root_dir):\n",
    "    files = glob.glob(os.path.join(root_dir, \"*.csv\"))\n",
    "    data_frames = {}\n",
    "    for idx, file in enumerate(files):\n",
    "        with open(file, 'r', encoding='utf-8') as f:\n",
    "            line1 = f.readline()            \n",
    "            # Example line:\n",
    "            # \"Sitzungsdetail für 'Bodystyling mit Bibi':\"\n",
    "            course_name = f.readline().split(\"'\")[1] # get the name of the course, e.g.: Bodystyling mit Bibi        \n",
    "        df = pd.read_csv(file, sep=\"\\t\", skiprows=2)\n",
    "        data_frames[idx] = (df, Path(file).stem.split('_')[0], course_name)\n",
    "    return data_frames"
   ]
  },
  {
   "cell_type": "code",
   "execution_count": 19,
   "metadata": {},
   "outputs": [],
   "source": [
    "def consolidate(df):\n",
    "    df_cons = pd.DataFrame(columns = ['Name', 'E-Mail', 'Datum'])\n",
    "    date = None\n",
    "    groups = df.groupby('Name')\n",
    "    for k,g in groups:\n",
    "        for i, row in g.iterrows():\n",
    "            df_cons = df_cons.append({'Name':row['Name'], 'E-Mail':row['E-Mail'], 'Datum':row['Datum']}, ignore_index=True)\n",
    "            if date is None:\n",
    "                date = row['Datum']\n",
    "            break\n",
    "    return (df_cons, date)"
   ]
  },
  {
   "cell_type": "code",
   "execution_count": 20,
   "metadata": {},
   "outputs": [],
   "source": [
    "def save(df, path):\n",
    "    df.to_csv(path,header=True, index=False, sep='\\t', encoding='utf-8')"
   ]
  },
  {
   "cell_type": "code",
   "execution_count": 23,
   "metadata": {},
   "outputs": [],
   "source": [
    "root_dir = r'C:\\Users\\rudi\\Documents\\Tina\\WebexKurse\\15.3-25.3'\n",
    "data_frames = read_files(root_dir)\n",
    "consolidate_data = []\n",
    "for k,v in data_frames.items():\n",
    "    df = v[0]\n",
    "    name = v[1]\n",
    "    (df_cons, date) = consolidate(df)\n",
    "    filename = os.path.join(root_dir, f'{name}_{date}.tsv')\n",
    "    save(df_cons, filename)"
   ]
  },
  {
   "cell_type": "code",
   "execution_count": null,
   "metadata": {},
   "outputs": [],
   "source": []
  },
  {
   "cell_type": "code",
   "execution_count": null,
   "metadata": {},
   "outputs": [],
   "source": []
  }
 ],
 "metadata": {
  "kernelspec": {
   "display_name": "Python 3",
   "language": "python",
   "name": "python3"
  },
  "language_info": {
   "codemirror_mode": {
    "name": "ipython",
    "version": 3
   },
   "file_extension": ".py",
   "mimetype": "text/x-python",
   "name": "python",
   "nbconvert_exporter": "python",
   "pygments_lexer": "ipython3",
   "version": "3.7.6"
  }
 },
 "nbformat": 4,
 "nbformat_minor": 4
}
